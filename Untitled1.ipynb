{
 "cells": [
  {
   "cell_type": "code",
   "execution_count": null,
   "id": "ef068738",
   "metadata": {},
   "outputs": [],
   "source": [
    "import joblib\n",
    "import logging\n",
    "import argparse\n",
    "import pandas as pd\n",
    "import matplotlib.pyplot as plt\n",
    "from sklearn.model_selection import train_test_split\n",
    "\n",
    "from starter.ml import process_data, inference, compute_model_metrics, train_model"
   ]
  },
  {
   "cell_type": "code",
   "execution_count": null,
   "id": "1acff40b",
   "metadata": {},
   "outputs": [],
   "source": [
    "import json\n",
    "import pandas as pd\n",
    "from pydantic import BaseModel, Field"
   ]
  },
  {
   "cell_type": "code",
   "execution_count": 35,
   "id": "901f6d49",
   "metadata": {},
   "outputs": [],
   "source": [
    "class Data(BaseModel):\n",
    "    age:            int\n",
    "    workclass:      str\n",
    "    fnlgt:          int\n",
    "    education:      str\n",
    "    education_num:  int = Field(alias=\"education-num\")\n",
    "    marital_status: str = Field(alias=\"marital-status\")\n",
    "    occupation:     str\n",
    "    relationship:   str\n",
    "    race:           str\n",
    "    sex:            str\n",
    "    capital_gain:   int = Field(alias=\"capital-gain\")\n",
    "    capital_loss:   int = Field(alias=\"capital-loss\")\n",
    "    hours_per_week: int = Field(alias=\"hours-per-week\")\n",
    "    native_country: str = Field(alias=\"native-country\")\n",
    "    \n",
    "    class Config:\n",
    "        allow_population_by_field_name = True"
   ]
  },
  {
   "cell_type": "code",
   "execution_count": null,
   "id": "27829a58",
   "metadata": {},
   "outputs": [],
   "source": [
    "data = Data(\n",
    "    age = 33,\n",
    "    workclass = 'Private',\n",
    "    fnlgt = 185908,\n",
    "    education = 'Bachelors',\n",
    "    education_num = 13,\n",
    "    marital_status = 'Married-civ-spouse',\n",
    "    occupation = 'Exec-managerial',\n",
    "    relationship = 'Husband',\n",
    "    race = 'Black',\n",
    "    sex = 'Male',\n",
    "    capital_gain = 0,\n",
    "    capital_loss = 0,\n",
    "    hours_per_week = 55,\n",
    "    native_country = 'United-States'\n",
    ")"
   ]
  },
  {
   "cell_type": "code",
   "execution_count": null,
   "id": "72d5756e",
   "metadata": {},
   "outputs": [],
   "source": [
    "data = Data(\n",
    "    age = 45,\n",
    "    workclass = 'State-gov',\n",
    "    fnlgt = 50567,\n",
    "    education = 'HS-grad',\n",
    "    education_num = 9,\n",
    "    marital_status = 'Married-civ-spouse',\n",
    "    occupation = 'Exec-managerial',\n",
    "    relationship = 'Wife',\n",
    "    race = 'White',\n",
    "    sex = 'Female',\n",
    "    capital_gain = 0,\n",
    "    capital_loss = 0,\n",
    "    hours_per_week = 40,\n",
    "    native_country = 'United-States'\n",
    ")"
   ]
  },
  {
   "cell_type": "code",
   "execution_count": null,
   "id": "acfa8821",
   "metadata": {},
   "outputs": [],
   "source": [
    "df = pd.DataFrame(data.dict(by_alias=True), index=[0])"
   ]
  },
  {
   "cell_type": "code",
   "execution_count": null,
   "id": "d0ae6e72",
   "metadata": {},
   "outputs": [],
   "source": [
    "X, y, encoder, lb = process_data(\n",
    "    df,\n",
    "    categorical_features = cat_features,\n",
    "    encoder=pipe['encoder'],\n",
    "    lb = pipe['lb'],\n",
    "    training=False\n",
    ")"
   ]
  },
  {
   "cell_type": "code",
   "execution_count": null,
   "id": "fc60af29",
   "metadata": {},
   "outputs": [],
   "source": [
    "X"
   ]
  },
  {
   "cell_type": "code",
   "execution_count": null,
   "id": "0430487a",
   "metadata": {},
   "outputs": [],
   "source": [
    "def inference(model, X):\n",
    "    \"\"\"\n",
    "    Run model inferences and return the predictions.\n",
    "\n",
    "    Inputs\n",
    "    ------\n",
    "    model : ???\n",
    "        Trained machine learning model.\n",
    "    X : np.array\n",
    "        Data used for prediction.\n",
    "    Returns\n",
    "    -------\n",
    "    preds : np.array\n",
    "        Predictions from the model.\n",
    "    \"\"\"\n",
    "    \n",
    "    X, _y, _encoder, _lb = process_data(\n",
    "        X,\n",
    "        categorical_features = cat_features,\n",
    "        encoder=model['encoder'],\n",
    "        lb = model['lb'],\n",
    "        training=False\n",
    "    )\n",
    "\n",
    "    preds = model['predictor'].predict(X)\n",
    "    \n",
    "    return preds"
   ]
  },
  {
   "cell_type": "code",
   "execution_count": null,
   "id": "743c9c1f",
   "metadata": {},
   "outputs": [],
   "source": [
    "inference(pipe, df) == 0"
   ]
  },
  {
   "cell_type": "markdown",
   "id": "c1d9613e",
   "metadata": {},
   "source": [
    "---"
   ]
  },
  {
   "cell_type": "code",
   "execution_count": 27,
   "id": "90a314ad",
   "metadata": {},
   "outputs": [],
   "source": [
    "import joblib\n",
    "import logging\n",
    "import argparse\n",
    "import pandas as pd\n",
    "import matplotlib.pyplot as plt\n",
    "from sklearn.model_selection import train_test_split\n",
    "\n",
    "from starter import process_data, inference, compute_model_metrics, train_model\n",
    "\n",
    "data = pd.read_csv('data/census.csv')\n",
    "train, test = train_test_split(data, test_size=0.3, random_state=42)\n",
    "\n",
    "cat_features = [\n",
    "    \"workclass\",\n",
    "    \"education\",\n",
    "    \"marital-status\",\n",
    "    \"occupation\",\n",
    "    \"relationship\",\n",
    "    \"race\",\n",
    "    \"sex\",\n",
    "    \"native-country\"\n",
    "]\n",
    "\n",
    "X_train, y_train, encoder, lb = process_data(\n",
    "    train,\n",
    "    categorical_features=cat_features,\n",
    "    label=\"salary\",\n",
    "    training=True\n",
    ")\n",
    "\n",
    "X_test, y_test, _encoder, _lb = process_data(\n",
    "    test,\n",
    "    categorical_features=cat_features,\n",
    "    label=\"salary\",\n",
    "    training=False,\n",
    "    encoder=encoder,\n",
    "    lb=lb\n",
    ")"
   ]
  },
  {
   "cell_type": "code",
   "execution_count": 33,
   "id": "da64bc0e",
   "metadata": {},
   "outputs": [
    {
     "data": {
      "text/plain": [
       "108"
      ]
     },
     "execution_count": 33,
     "metadata": {},
     "output_type": "execute_result"
    }
   ],
   "source": [
    "X.shape[1]"
   ]
  },
  {
   "cell_type": "code",
   "execution_count": null,
   "id": "445b8d2d",
   "metadata": {},
   "outputs": [],
   "source": [
    "# Train and save a model.\n",
    "model = train_model(X_train, y_train, 42)"
   ]
  },
  {
   "cell_type": "code",
   "execution_count": null,
   "id": "659c95e0",
   "metadata": {},
   "outputs": [],
   "source": [
    "model"
   ]
  },
  {
   "cell_type": "code",
   "execution_count": null,
   "id": "bc0e4186",
   "metadata": {},
   "outputs": [],
   "source": [
    "from sklearn.pipeline import Pipeline"
   ]
  },
  {
   "cell_type": "code",
   "execution_count": null,
   "id": "becd5ddc",
   "metadata": {},
   "outputs": [],
   "source": [
    "pipe = {\n",
    "    'encoder':encoder,\n",
    "    'lb':lb,\n",
    "    'predictor':model\n",
    "}"
   ]
  },
  {
   "cell_type": "code",
   "execution_count": null,
   "id": "be8f4b26",
   "metadata": {},
   "outputs": [],
   "source": [
    "pipe['lb']"
   ]
  },
  {
   "cell_type": "code",
   "execution_count": null,
   "id": "723bc56d",
   "metadata": {},
   "outputs": [],
   "source": [
    "pipe.predict(df)"
   ]
  },
  {
   "cell_type": "code",
   "execution_count": null,
   "id": "26c47b92",
   "metadata": {},
   "outputs": [],
   "source": [
    "X_categorical = encoder.transform(df[cat_features].values)"
   ]
  },
  {
   "cell_type": "code",
   "execution_count": null,
   "id": "fcb3b1bc",
   "metadata": {},
   "outputs": [],
   "source": [
    "X_categorical"
   ]
  },
  {
   "cell_type": "code",
   "execution_count": 1,
   "id": "67f1b380",
   "metadata": {},
   "outputs": [],
   "source": [
    "import joblib\n",
    "import pandas as pd\n",
    "from fastapi import FastAPI\n",
    "from pydantic import BaseModel, Field\n",
    "\n",
    "from starter import inference, process_data"
   ]
  },
  {
   "cell_type": "code",
   "execution_count": 2,
   "id": "e346ced2",
   "metadata": {},
   "outputs": [],
   "source": [
    "encoder = joblib.load('model/encoder.pkl')\n",
    "model = joblib.load('model/model.pkl')\n",
    "lb = joblib.load('model/lb.pkl')"
   ]
  },
  {
   "cell_type": "code",
   "execution_count": 6,
   "id": "45f2a8b2",
   "metadata": {},
   "outputs": [],
   "source": [
    "class Data(BaseModel):\n",
    "    age:            int\n",
    "    workclass:      str\n",
    "    fnlgt:          int\n",
    "    education:      str\n",
    "    education_num:  int = Field(alias=\"education-num\")\n",
    "    marital_status: str = Field(alias=\"marital-status\")\n",
    "    occupation:     str\n",
    "    relationship:   str\n",
    "    race:           str\n",
    "    sex:            str\n",
    "    capital_gain:   int = Field(alias=\"capital-gain\")\n",
    "    capital_loss:   int = Field(alias=\"capital-loss\")\n",
    "    hours_per_week: int = Field(alias=\"hours-per-week\")\n",
    "    native_country: str = Field(alias=\"native-country\")\n",
    "\n",
    "    class Config:\n",
    "        allow_population_by_field_name = True"
   ]
  },
  {
   "cell_type": "code",
   "execution_count": 36,
   "id": "64e5b671",
   "metadata": {},
   "outputs": [],
   "source": [
    "data_true = Data(\n",
    "    age = 33,\n",
    "    workclass = 'Private',\n",
    "    fnlgt = 185908,\n",
    "    education = 'Bachelors',\n",
    "    education_num = 13,\n",
    "    marital_status = 'Married-civ-spouse',\n",
    "    occupation = 'Exec-managerial',\n",
    "    relationship = 'Husband',\n",
    "    race = 'Black',\n",
    "    sex = 'Male',\n",
    "    capital_gain = 0,\n",
    "    capital_loss = 0,\n",
    "    hours_per_week = 55,\n",
    "    native_country = 'United-States'\n",
    ")\n",
    "\n",
    "data_false = Data(\n",
    "    age = 45,\n",
    "    workclass = 'State-gov',\n",
    "    fnlgt = 50567,\n",
    "    education = 'HS-grad',\n",
    "    education_num = 9,\n",
    "    marital_status = 'Married-civ-spouse',\n",
    "    occupation = 'Exec-managerial',\n",
    "    relationship = 'Wife',\n",
    "    race = 'White',\n",
    "    sex = 'Female',\n",
    "    capital_gain = 0,\n",
    "    capital_loss = 0,\n",
    "    hours_per_week = 40,\n",
    "    native_country = 'United-States'\n",
    ")"
   ]
  },
  {
   "cell_type": "code",
   "execution_count": 37,
   "id": "2bb9000b",
   "metadata": {},
   "outputs": [],
   "source": [
    "df = pd.DataFrame(data_true.dict(by_alias=True), index=[0])"
   ]
  },
  {
   "cell_type": "code",
   "execution_count": 9,
   "id": "8500f4e0",
   "metadata": {},
   "outputs": [],
   "source": [
    "# Processing data\n",
    "X, _y, _encoder, _lb = process_data(\n",
    "    df,\n",
    "    categorical_features=encoder['features'],\n",
    "    encoder=encoder['encoder'],\n",
    "    lb=lb,\n",
    "    training=False\n",
    ")"
   ]
  },
  {
   "cell_type": "code",
   "execution_count": 10,
   "id": "16e590f6",
   "metadata": {},
   "outputs": [
    {
     "data": {
      "text/plain": [
       "array([1])"
      ]
     },
     "execution_count": 10,
     "metadata": {},
     "output_type": "execute_result"
    }
   ],
   "source": [
    "inference(model, X)"
   ]
  },
  {
   "cell_type": "code",
   "execution_count": 42,
   "id": "32de6307",
   "metadata": {},
   "outputs": [],
   "source": [
    "class Data(BaseModel):\n",
    "    age:            int\n",
    "    workclass:      str\n",
    "    fnlgt:          int\n",
    "    education:      str\n",
    "    education_num:  int = Field(alias=\"education-num\")\n",
    "    marital_status: str = Field(alias=\"marital-status\")\n",
    "    occupation:     str\n",
    "    relationship:   str\n",
    "    race:           str\n",
    "    sex:            str\n",
    "    capital_gain:   int = Field(alias=\"capital-gain\")\n",
    "    capital_loss:   int = Field(alias=\"capital-loss\")\n",
    "    hours_per_week: int = Field(alias=\"hours-per-week\")\n",
    "    native_country: str = Field(alias=\"native-country\")\n",
    "    salary:         str\n",
    "\n",
    "    class Config:\n",
    "        allow_population_by_field_name = True\n",
    "\n",
    "\n",
    "data = Data(\n",
    "    age = 45,\n",
    "    workclass = 'State-gov',\n",
    "    fnlgt = 50567,\n",
    "    education = 'HS-grad',\n",
    "    education_num = 9,\n",
    "    marital_status = 'Married-civ-spouse',\n",
    "    occupation = 'Exec-managerial',\n",
    "    relationship = 'Wife',\n",
    "    race = 'White',\n",
    "    sex = 'Female',\n",
    "    capital_gain = 0,\n",
    "    capital_loss = 0,\n",
    "    hours_per_week = 40,\n",
    "    native_country = 'United-States',\n",
    "    salary = '<=50K'\n",
    ")\n",
    "\n",
    "df = pd.DataFrame(data.dict(by_alias=True), index=[0])"
   ]
  },
  {
   "cell_type": "code",
   "execution_count": 43,
   "id": "f1758d63",
   "metadata": {},
   "outputs": [],
   "source": [
    "X_train, y_train, encoder, lb = process_data(\n",
    "    df,\n",
    "    categorical_features=cat_features,\n",
    "    label=\"salary\",\n",
    "    training=True\n",
    ")"
   ]
  },
  {
   "cell_type": "code",
   "execution_count": 49,
   "id": "c59be6c3",
   "metadata": {},
   "outputs": [
    {
     "data": {
      "text/plain": [
       "(1, 14)"
      ]
     },
     "execution_count": 49,
     "metadata": {},
     "output_type": "execute_result"
    }
   ],
   "source": [
    "X_train.shape"
   ]
  },
  {
   "cell_type": "code",
   "execution_count": 53,
   "id": "c7e7aabb",
   "metadata": {},
   "outputs": [
    {
     "data": {
      "text/plain": [
       "True"
      ]
     },
     "execution_count": 53,
     "metadata": {},
     "output_type": "execute_result"
    }
   ],
   "source": [
    "y_train.shape == (1,)"
   ]
  },
  {
   "cell_type": "code",
   "execution_count": 55,
   "id": "d14161fe",
   "metadata": {},
   "outputs": [
    {
     "ename": "NameError",
     "evalue": "name 'OneHotEncoder' is not defined",
     "output_type": "error",
     "traceback": [
      "\u001b[0;31m---------------------------------------------------------------------------\u001b[0m",
      "\u001b[0;31mNameError\u001b[0m                                 Traceback (most recent call last)",
      "Cell \u001b[0;32mIn [55], line 1\u001b[0m\n\u001b[0;32m----> 1\u001b[0m encoder \u001b[38;5;241m=\u001b[39m \u001b[43mOneHotEncoder\u001b[49m(handle_unknown\u001b[38;5;241m=\u001b[39m\u001b[38;5;124m'\u001b[39m\u001b[38;5;124mignore\u001b[39m\u001b[38;5;124m'\u001b[39m, sparse\u001b[38;5;241m=\u001b[39m\u001b[38;5;28;01mFalse\u001b[39;00m)\n",
      "\u001b[0;31mNameError\u001b[0m: name 'OneHotEncoder' is not defined"
     ]
    }
   ],
   "source": [
    "encoder = OneHotEncoder(handle_unknown='ignore', sparse=False)"
   ]
  },
  {
   "cell_type": "code",
   "execution_count": 63,
   "id": "0d8c4bdd",
   "metadata": {},
   "outputs": [
    {
     "data": {
      "text/plain": [
       "True"
      ]
     },
     "execution_count": 63,
     "metadata": {},
     "output_type": "execute_result"
    }
   ],
   "source": [
    "import sklearn\n",
    "type(lb) == sklearn.preprocessing._label.LabelBinarizer"
   ]
  },
  {
   "cell_type": "code",
   "execution_count": 65,
   "id": "3d2c69ff",
   "metadata": {},
   "outputs": [
    {
     "data": {
      "text/html": [
       "<style>#sk-container-id-2 {color: black;background-color: white;}#sk-container-id-2 pre{padding: 0;}#sk-container-id-2 div.sk-toggleable {background-color: white;}#sk-container-id-2 label.sk-toggleable__label {cursor: pointer;display: block;width: 100%;margin-bottom: 0;padding: 0.3em;box-sizing: border-box;text-align: center;}#sk-container-id-2 label.sk-toggleable__label-arrow:before {content: \"▸\";float: left;margin-right: 0.25em;color: #696969;}#sk-container-id-2 label.sk-toggleable__label-arrow:hover:before {color: black;}#sk-container-id-2 div.sk-estimator:hover label.sk-toggleable__label-arrow:before {color: black;}#sk-container-id-2 div.sk-toggleable__content {max-height: 0;max-width: 0;overflow: hidden;text-align: left;background-color: #f0f8ff;}#sk-container-id-2 div.sk-toggleable__content pre {margin: 0.2em;color: black;border-radius: 0.25em;background-color: #f0f8ff;}#sk-container-id-2 input.sk-toggleable__control:checked~div.sk-toggleable__content {max-height: 200px;max-width: 100%;overflow: auto;}#sk-container-id-2 input.sk-toggleable__control:checked~label.sk-toggleable__label-arrow:before {content: \"▾\";}#sk-container-id-2 div.sk-estimator input.sk-toggleable__control:checked~label.sk-toggleable__label {background-color: #d4ebff;}#sk-container-id-2 div.sk-label input.sk-toggleable__control:checked~label.sk-toggleable__label {background-color: #d4ebff;}#sk-container-id-2 input.sk-hidden--visually {border: 0;clip: rect(1px 1px 1px 1px);clip: rect(1px, 1px, 1px, 1px);height: 1px;margin: -1px;overflow: hidden;padding: 0;position: absolute;width: 1px;}#sk-container-id-2 div.sk-estimator {font-family: monospace;background-color: #f0f8ff;border: 1px dotted black;border-radius: 0.25em;box-sizing: border-box;margin-bottom: 0.5em;}#sk-container-id-2 div.sk-estimator:hover {background-color: #d4ebff;}#sk-container-id-2 div.sk-parallel-item::after {content: \"\";width: 100%;border-bottom: 1px solid gray;flex-grow: 1;}#sk-container-id-2 div.sk-label:hover label.sk-toggleable__label {background-color: #d4ebff;}#sk-container-id-2 div.sk-serial::before {content: \"\";position: absolute;border-left: 1px solid gray;box-sizing: border-box;top: 0;bottom: 0;left: 50%;z-index: 0;}#sk-container-id-2 div.sk-serial {display: flex;flex-direction: column;align-items: center;background-color: white;padding-right: 0.2em;padding-left: 0.2em;position: relative;}#sk-container-id-2 div.sk-item {position: relative;z-index: 1;}#sk-container-id-2 div.sk-parallel {display: flex;align-items: stretch;justify-content: center;background-color: white;position: relative;}#sk-container-id-2 div.sk-item::before, #sk-container-id-2 div.sk-parallel-item::before {content: \"\";position: absolute;border-left: 1px solid gray;box-sizing: border-box;top: 0;bottom: 0;left: 50%;z-index: -1;}#sk-container-id-2 div.sk-parallel-item {display: flex;flex-direction: column;z-index: 1;position: relative;background-color: white;}#sk-container-id-2 div.sk-parallel-item:first-child::after {align-self: flex-end;width: 50%;}#sk-container-id-2 div.sk-parallel-item:last-child::after {align-self: flex-start;width: 50%;}#sk-container-id-2 div.sk-parallel-item:only-child::after {width: 0;}#sk-container-id-2 div.sk-dashed-wrapped {border: 1px dashed gray;margin: 0 0.4em 0.5em 0.4em;box-sizing: border-box;padding-bottom: 0.4em;background-color: white;}#sk-container-id-2 div.sk-label label {font-family: monospace;font-weight: bold;display: inline-block;line-height: 1.2em;}#sk-container-id-2 div.sk-label-container {text-align: center;}#sk-container-id-2 div.sk-container {/* jupyter's `normalize.less` sets `[hidden] { display: none; }` but bootstrap.min.css set `[hidden] { display: none !important; }` so we also need the `!important` here to be able to override the default hidden behavior on the sphinx rendered scikit-learn.org. See: https://github.com/scikit-learn/scikit-learn/issues/21755 */display: inline-block !important;position: relative;}#sk-container-id-2 div.sk-text-repr-fallback {display: none;}</style><div id=\"sk-container-id-2\" class=\"sk-top-container\"><div class=\"sk-text-repr-fallback\"><pre>OneHotEncoder(handle_unknown=&#x27;ignore&#x27;, sparse=False)</pre><b>In a Jupyter environment, please rerun this cell to show the HTML representation or trust the notebook. <br />On GitHub, the HTML representation is unable to render, please try loading this page with nbviewer.org.</b></div><div class=\"sk-container\" hidden><div class=\"sk-item\"><div class=\"sk-estimator sk-toggleable\"><input class=\"sk-toggleable__control sk-hidden--visually\" id=\"sk-estimator-id-2\" type=\"checkbox\" checked><label for=\"sk-estimator-id-2\" class=\"sk-toggleable__label sk-toggleable__label-arrow\">OneHotEncoder</label><div class=\"sk-toggleable__content\"><pre>OneHotEncoder(handle_unknown=&#x27;ignore&#x27;, sparse=False)</pre></div></div></div></div></div>"
      ],
      "text/plain": [
       "OneHotEncoder(handle_unknown='ignore', sparse=False)"
      ]
     },
     "execution_count": 65,
     "metadata": {},
     "output_type": "execute_result"
    }
   ],
   "source": [
    "encoder"
   ]
  },
  {
   "cell_type": "code",
   "execution_count": null,
   "id": "bb0af2f5",
   "metadata": {},
   "outputs": [],
   "source": []
  }
 ],
 "metadata": {
  "kernelspec": {
   "display_name": "Python 3 (ipykernel)",
   "language": "python",
   "name": "python3"
  },
  "language_info": {
   "codemirror_mode": {
    "name": "ipython",
    "version": 3
   },
   "file_extension": ".py",
   "mimetype": "text/x-python",
   "name": "python",
   "nbconvert_exporter": "python",
   "pygments_lexer": "ipython3",
   "version": "3.10.7"
  }
 },
 "nbformat": 4,
 "nbformat_minor": 5
}
